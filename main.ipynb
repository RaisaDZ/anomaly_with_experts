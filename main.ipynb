{
 "cells": [
  {
   "cell_type": "code",
   "execution_count": 1,
   "metadata": {},
   "outputs": [],
   "source": [
    "import gc\n",
    "import os\n",
    "import shlex\n",
    "import shutil\n",
    "import subprocess\n",
    "from pathlib import Path\n",
    "\n",
    "import numpy as np\n",
    "import pandas as pd\n",
    "from main_functions import calculate_loss\n",
    "from nab_functions import get_scores, read_nab\n",
    "from tqdm import tqdm"
   ]
  },
  {
   "cell_type": "code",
   "execution_count": 2,
   "metadata": {},
   "outputs": [],
   "source": [
    "gc.enable()"
   ]
  },
  {
   "cell_type": "markdown",
   "metadata": {},
   "source": [
    "## List of experts"
   ]
  },
  {
   "cell_type": "code",
   "execution_count": 3,
   "metadata": {},
   "outputs": [],
   "source": [
    "algorithm_list = [\n",
    "    \"knncad\",\n",
    "    \"numentaTM\",\n",
    "    \"twitterADVec\",\n",
    "    \"skyline\",\n",
    "    \"earthgeckoSkyline\",\n",
    "    \"numenta\",\n",
    "    \"bayesChangePt\",\n",
    "    \"null\",\n",
    "    \"expose\",\n",
    "    \"relativeEntropy\",\n",
    "    \"htmjava\",\n",
    "    \"randomCutForest\",\n",
    "    \"random\",\n",
    "    \"contextOSE\",\n",
    "    \"windowedGaussian\",\n",
    "]"
   ]
  },
  {
   "cell_type": "markdown",
   "metadata": {},
   "source": [
    "## Read predictions from NAB and calculate predictions of Fixed-share and Variable-share"
   ]
  },
  {
   "cell_type": "code",
   "execution_count": 4,
   "metadata": {},
   "outputs": [
    {
     "name": "stderr",
     "output_type": "stream",
     "text": [
      "100%|██████████| 7/7 [06:33<00:00, 56.26s/it]\n"
     ]
    }
   ],
   "source": [
    "dir_list = os.listdir(\"NAB/results/numenta\")\n",
    "folder_list = [s for s in dir_list if any(xs in s for xs in [\"real\", \"artificial\"])]\n",
    "alpha_range = [0, 0.05, 0.1, 0.2, 0.3, 0.5, 0.7, 0.9]\n",
    "share_range = [\"Fixed\", \"Variable\"]\n",
    "for m, folder_name in enumerate(tqdm(folder_list)):\n",
    "    file_list = os.listdir(f\"NAB/results/numenta/{folder_name}\")\n",
    "    file_list = [i.replace(\"numenta\", \"\") for i in file_list]\n",
    "    for n, file_name in enumerate(file_list):\n",
    "        dt = read_nab(algorithm_list, folder_name, file_name)\n",
    "        score_experts = np.array(dt.filter(regex=\"^score\", axis=1))\n",
    "        assert score_experts.shape[1] == len(algorithm_list)\n",
    "        target = dt[\"label\"].values\n",
    "        scores_share = get_scores(target, score_experts, share_range, alpha_range)\n",
    "        dt = pd.merge(\n",
    "            dt, scores_share, left_index=True, right_index=True, validate=\"1:1\"\n",
    "        )\n",
    "        dt[\"file_name\"] = file_name\n",
    "        dt[\"folder_name\"] = folder_name\n",
    "        if (m == 0) & (n == 0):\n",
    "            results = dt.copy()\n",
    "        else:\n",
    "            results = pd.concat([results, dt], axis=0, sort=False)"
   ]
  },
  {
   "cell_type": "markdown",
   "metadata": {},
   "source": [
    "## Calculate losses"
   ]
  },
  {
   "cell_type": "code",
   "execution_count": 5,
   "metadata": {},
   "outputs": [
    {
     "name": "stdout",
     "output_type": "stream",
     "text": [
      "CPU times: user 647 ms, sys: 165 ms, total: 812 ms\n",
      "Wall time: 810 ms\n"
     ]
    }
   ],
   "source": [
    "%%time\n",
    "alg_list = results.filter(regex=\"^score\", axis=1).columns.tolist()\n",
    "alg_list = [i.replace(\"score_\", \"\") for i in alg_list]\n",
    "losses_log = results[[\"timestamp\", \"value\", \"label\", \"file_name\", \"folder_name\"]].copy()\n",
    "losses_square = results[\n",
    "    [\"timestamp\", \"value\", \"label\", \"file_name\", \"folder_name\"]\n",
    "].copy()\n",
    "for alg_ind in alg_list:\n",
    "    losses_log[f\"loss_{alg_ind}\"] = calculate_loss(\n",
    "        results[\"label\"].values, results[f\"score_{alg_ind}\"].values, loss_type=\"log\"\n",
    "    )\n",
    "    losses_square[f\"loss_{alg_ind}\"] = calculate_loss(\n",
    "        results[\"label\"].values, results[f\"score_{alg_ind}\"].values, loss_type=\"square\"\n",
    "    )\n",
    "losses_log_total = losses_log.groupby([\"folder_name\", \"file_name\"])[\n",
    "    losses_log.filter(regex=\"^loss\", axis=1).columns.tolist()\n",
    "].sum()\n",
    "losses_square_total = losses_square.groupby([\"folder_name\", \"file_name\"])[\n",
    "    losses_square.filter(regex=\"^loss\", axis=1).columns.tolist()\n",
    "].sum()"
   ]
  },
  {
   "cell_type": "markdown",
   "metadata": {},
   "source": [
    "## Export results"
   ]
  },
  {
   "cell_type": "code",
   "execution_count": 6,
   "metadata": {},
   "outputs": [
    {
     "name": "stdout",
     "output_type": "stream",
     "text": [
      "CPU times: user 45.2 s, sys: 729 ms, total: 46 s\n",
      "Wall time: 46 s\n"
     ]
    }
   ],
   "source": [
    "%%time\n",
    "if not os.path.exists(\"results\"):\n",
    "    os.makedirs(\"results\")\n",
    "results.to_csv(\"results/scores.csv\", index=False)\n",
    "losses_log.to_csv(\"results/losses_log.csv\", index=False)\n",
    "losses_square.to_csv(\"results/losses_square.csv\", index=False)\n",
    "losses_log_total.to_csv(\"results/losses_log_total.csv\")\n",
    "losses_square_total.to_csv(\"results/losses_square_total.csv\")"
   ]
  },
  {
   "cell_type": "markdown",
   "metadata": {},
   "source": [
    "## Export the predictions of Fixed-share and Variable-share in the NAB format"
   ]
  },
  {
   "cell_type": "code",
   "execution_count": 7,
   "metadata": {},
   "outputs": [
    {
     "name": "stdout",
     "output_type": "stream",
     "text": [
      "CPU times: user 1min 1s, sys: 1.11 s, total: 1min 2s\n",
      "Wall time: 1min 2s\n"
     ]
    }
   ],
   "source": [
    "%%time\n",
    "if not os.path.exists(\"results/NAB\"):\n",
    "    shutil.copytree(\"NAB\", \"results/NAB\")\n",
    "share_list = results.filter(regex=\"Fixed|Variable\", axis=1).columns.tolist()\n",
    "share_list = [i.replace(\"score_\", \"\") for i in share_list]\n",
    "for share_name in share_list:\n",
    "    for m, folder_name in enumerate(folder_list):\n",
    "        file_list = os.listdir(f\"results/NAB/results/numenta/{folder_name}\")\n",
    "        file_list = [i.replace(\"numenta\", \"\") for i in file_list]\n",
    "        for n, file_name in enumerate(file_list):\n",
    "            results_temp = results[\n",
    "                (results[\"folder_name\"] == folder_name)\n",
    "                & (results[\"file_name\"] == file_name)\n",
    "            ]\n",
    "            if not os.path.exists(f\"results/NAB/results/{share_name}/{folder_name}\"):\n",
    "                os.makedirs(f\"results/NAB/results/{share_name}/{folder_name}\")\n",
    "            results_temp[[\"timestamp\", \"value\", f\"score_{share_name}\", \"label\"]].rename(\n",
    "                {f\"score_{share_name}\": \"anomaly_score\"}, axis=1\n",
    "            ).to_csv(\n",
    "                f\"results/NAB/results/{share_name}/{folder_name}/{share_name}{file_name}\",\n",
    "                index=False,\n",
    "            )"
   ]
  },
  {
   "cell_type": "markdown",
   "metadata": {},
   "source": [
    "## Calculate NAB scores"
   ]
  },
  {
   "cell_type": "code",
   "execution_count": 8,
   "metadata": {},
   "outputs": [],
   "source": [
    "del results, losses_log, losses_square, dt"
   ]
  },
  {
   "cell_type": "code",
   "execution_count": 11,
   "metadata": {},
   "outputs": [
    {
     "name": "stdout",
     "output_type": "stream",
     "text": [
      "CPU times: user 7.7 ms, sys: 30.3 ms, total: 38 ms\n",
      "Wall time: 6min 29s\n"
     ]
    },
    {
     "data": {
      "text/plain": [
       "CompletedProcess(args=['python', 'run.py', '-d', 'Fixed0', 'Fixed5', 'Fixed10', 'Fixed20', 'Fixed30', 'Fixed50', 'Fixed70', 'Fixed90', 'Variable0', 'Variable5', 'Variable10', 'Variable20', 'Variable30', 'Variable50', 'Variable70', 'Variable90', 'knncad', 'numentaTM', 'twitterADVec', 'skyline', 'earthgeckoSkyline', 'numenta', 'bayesChangePt', 'null', 'expose', 'relativeEntropy', 'htmjava', 'randomCutForest', 'random', 'contextOSE', 'windowedGaussian', '--optimize', '--score', '--normalize'], returncode=0)"
      ]
     },
     "execution_count": 11,
     "metadata": {},
     "output_type": "execute_result"
    }
   ],
   "source": [
    "%%time\n",
    "if os.path.exists(\"results/NAB/results/final_results.json\"):\n",
    "    (Path(\"results\") / \"NAB/results/final_results.json\").unlink()\n",
    "ps = subprocess.Popen([\"echo\", \"y\"], stdout=subprocess.PIPE)\n",
    "subprocess.run(\n",
    "    shlex.split(\n",
    "        f\"python run.py -d {' '.join(share_list+algorithm_list)} --optimize --score --normalize\"\n",
    "    ),\n",
    "    cwd=\"results/NAB\",\n",
    "    stdin=ps.stdout,\n",
    ")"
   ]
  },
  {
   "cell_type": "code",
   "execution_count": null,
   "metadata": {},
   "outputs": [],
   "source": []
  }
 ],
 "metadata": {
  "kernelspec": {
   "display_name": "Python 3",
   "language": "python",
   "name": "python3"
  },
  "language_info": {
   "codemirror_mode": {
    "name": "ipython",
    "version": 3
   },
   "file_extension": ".py",
   "mimetype": "text/x-python",
   "name": "python",
   "nbconvert_exporter": "python",
   "pygments_lexer": "ipython3",
   "version": "3.7.9"
  }
 },
 "nbformat": 4,
 "nbformat_minor": 4
}
